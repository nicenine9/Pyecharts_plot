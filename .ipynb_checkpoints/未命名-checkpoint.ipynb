{
 "cells": [
  {
   "cell_type": "code",
   "execution_count": 8,
   "metadata": {},
   "outputs": [
    {
     "data": {
      "text/plain": [
       "'/Users/sellermotor/PycharmProjects/venv/Untitled Folder/render.html'"
      ]
     },
     "execution_count": 8,
     "metadata": {},
     "output_type": "execute_result"
    }
   ],
   "source": [
    "from pyecharts.charts import Bar\n",
    "from pyecharts import options as opts\n",
    "# 内置主题类型可查看 pyecharts.globals.ThemeType\n",
    "from pyecharts.globals import ThemeType\n",
    "\n",
    "bar = (\n",
    "    Bar(init_opts=opts.InitOpts(theme=ThemeType.LIGHT))\n",
    "    .add_xaxis([\"Home & Garden\",\"Health & Beauty\",\"Electronics\",\"Fashion & Accessories\"])\n",
    "    .add_yaxis(\"拍卖\", [3.51,66.60,0.21,0.70])\n",
    "    .add_yaxis(\"一口价\", [6.35,7.43,8.25,6.96])\n",
    "    #.set_global_opts(title_opts=opts.TitleOpts(title=\"主标题\", subtitle=\"副标题\"))\n",
    ")\n",
    "bar.render()"
   ]
  },
  {
   "cell_type": "code",
   "execution_count": 11,
   "metadata": {},
   "outputs": [],
   "source": [
    "\n",
    "# encoding: utf-8\n",
    "\"\"\"\n",
    "说明 建立百分比的柱状图\n",
    "\"\"\"\n",
    "from pyecharts.charts import Bar\n",
    "from pyecharts import options as opts\n",
    "from pyecharts.globals import ThemeType\n",
    " \n",
    "def create_bar(bar_dict):\n",
    "    # 建立百分比的柱状图\n",
    "    bar_item = bar_dict['item']\n",
    "    bar_head = bar_dict['head']\n",
    "    bar_data = bar_dict['data']\n",
    "    bar = (\n",
    "        Bar(init_opts=opts.InitOpts(theme=ThemeType.LIGHT))\n",
    "            .add_xaxis(bar_item)\n",
    "            .set_global_opts(title_opts=opts.TitleOpts(title=\"销售情况\", subtitle=\"占比情况\"))\n",
    "    )\n",
    "    for i in range(len(bar_head)):\n",
    "        bar.add_yaxis(bar_head[i], bar_data[i], label_opts=opts.LabelOpts(formatter=\"{c} %\"))\n",
    "    bar.set_global_opts(\n",
    "            yaxis_opts=opts.AxisOpts(axislabel_opts=opts.LabelOpts(formatter=\"{value} %\"), interval=10))\n",
    "    return bar\n",
    " \n",
    " \n",
    "def get_data_dict():\n",
    "    # 这里获取要显示的数据 ， 可以改成连接数据库\n",
    "    data_a = [round(n*100,2) for n in [0.0351,0.6660,0.0021,0.0070]]\n",
    "    data_b = [round(n*100,2) for n in [0.0635,0.0743,0.0825,0.0696]]\n",
    "    pdt_list = [\"Home & Garden\",\"Health & Beauty\",\"Electronics\",\"Fashion & Accessories\"]\n",
    "    data_dict= {'data':[data_a,data_b], 'head':['拍卖','一口价'], 'item':pdt_list}\n",
    "    return data_dict\n",
    " \n",
    " \n",
    "if __name__==\"__main__\":\n",
    "    data = get_data_dict()\n",
    "    bar = create_bar(data)\n",
    "    bar.render()"
   ]
  },
  {
   "cell_type": "code",
   "execution_count": null,
   "metadata": {},
   "outputs": [],
   "source": []
  }
 ],
 "metadata": {
  "kernelspec": {
   "display_name": "Python 3",
   "language": "python",
   "name": "python3"
  },
  "language_info": {
   "codemirror_mode": {
    "name": "ipython",
    "version": 3
   },
   "file_extension": ".py",
   "mimetype": "text/x-python",
   "name": "python",
   "nbconvert_exporter": "python",
   "pygments_lexer": "ipython3",
   "version": "3.7.3"
  }
 },
 "nbformat": 4,
 "nbformat_minor": 2
}
