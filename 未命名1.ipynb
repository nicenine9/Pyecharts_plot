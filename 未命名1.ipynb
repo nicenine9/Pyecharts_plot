{
 "cells": [
  {
   "cell_type": "code",
   "execution_count": 13,
   "metadata": {},
   "outputs": [
    {
     "data": {
      "text/plain": [
       "'/Users/sellermotor/PycharmProjects/venv/Pyecharts_plot/render.html'"
      ]
     },
     "execution_count": 13,
     "metadata": {},
     "output_type": "execute_result"
    }
   ],
   "source": [
    "from pyecharts.charts import Bar\n",
    "\n",
    "bar = (\n",
    "    Bar(init_opts=opts.InitOpts(theme=ThemeType.LIGHT))\n",
    "    .add_xaxis([\"Wild Bobby\",\"BRISEZZ\",\"AnNido\",\"GAGEC\",\"Waq\",\n",
    "                \"SHORDY\",\"The Feelings\",\"SHORDY\",\"QMSK\",\"NSZ\"])\n",
    "    .add_yaxis(\"月销量\", [4728,2369,1576,1481,1440,\n",
    "                      1360,1344,1054,898,831])\n",
    ")\n",
    "bar.render()"
   ]
  },
  {
   "cell_type": "code",
   "execution_count": 12,
   "metadata": {},
   "outputs": [
    {
     "data": {
      "text/plain": [
       "'/Users/sellermotor/PycharmProjects/venv/Pyecharts_plot/render.html'"
      ]
     },
     "execution_count": 12,
     "metadata": {},
     "output_type": "execute_result"
    }
   ],
   "source": [
    "from pyecharts.charts import Bar\n",
    "\n",
    "bar = (\n",
    "    Bar(init_opts=opts.InitOpts(theme=ThemeType.LIGHT))\n",
    "    .add_xaxis([\"ERT\",\"DFLIVE\",\"ERT\",\"TONOS\",\"WIBIMEN\",\n",
    "               \"OUR FRIENDLY FOREST\",\"Anley\",\"Aisto\",\"Biden/Harris 2020\",\"WIBIMEN\"])\n",
    "    .add_yaxis(\"月销量\", [14318,13945,13655,11186,8168,\n",
    "                      7464,7312,6748,6257,5885])\n",
    ")\n",
    "bar.render()\n"
   ]
  },
  {
   "cell_type": "code",
   "execution_count": null,
   "metadata": {},
   "outputs": [],
   "source": []
  }
 ],
 "metadata": {
  "kernelspec": {
   "display_name": "Python 3",
   "language": "python",
   "name": "python3"
  },
  "language_info": {
   "codemirror_mode": {
    "name": "ipython",
    "version": 3
   },
   "file_extension": ".py",
   "mimetype": "text/x-python",
   "name": "python",
   "nbconvert_exporter": "python",
   "pygments_lexer": "ipython3",
   "version": "3.7.3"
  }
 },
 "nbformat": 4,
 "nbformat_minor": 2
}
